{
 "cells": [
  {
   "cell_type": "code",
   "execution_count": null,
   "id": "a777d3cb",
   "metadata": {},
   "outputs": [],
   "source": [
    "i=0\n",
    "while (i<5):\n",
    "    print(i)\n",
    "    i+=1"
   ]
  },
  {
   "cell_type": "code",
   "execution_count": null,
   "id": "526b8413",
   "metadata": {},
   "outputs": [],
   "source": [
    "number= [1,2,3,4,5,6,7,8,9]\n",
    "lis = number[5::2]\n",
    "print(lis)"
   ]
  },
  {
   "cell_type": "code",
   "execution_count": null,
   "id": "9fe69e01",
   "metadata": {},
   "outputs": [],
   "source": [
    "for i in number:\n",
    "    print(i)"
   ]
  },
  {
   "cell_type": "code",
   "execution_count": null,
   "id": "4399ab1e",
   "metadata": {},
   "outputs": [],
   "source": [
    "lst=[]\n",
    "for x in range(10):\n",
    "    lst.append(x**2)\n",
    "    print(lst)\n"
   ]
  },
  {
   "cell_type": "code",
   "execution_count": null,
   "id": "2ea90930",
   "metadata": {},
   "outputs": [],
   "source": [
    "lst = [num for num in range(1,21)]\n",
    "print(lst)"
   ]
  },
  {
   "cell_type": "code",
   "execution_count": null,
   "id": "f6a15b39",
   "metadata": {},
   "outputs": [],
   "source": [
    "size=len(lst)\n",
    "given = lst[0:19:int(size/2)]\n",
    "print(given)"
   ]
  },
  {
   "cell_type": "code",
   "execution_count": null,
   "id": "897ab4f8",
   "metadata": {},
   "outputs": [],
   "source": [
    "print(lst[0:5], lst [-5:], lst[5:16])"
   ]
  },
  {
   "cell_type": "code",
   "execution_count": null,
   "id": "d8201751",
   "metadata": {},
   "outputs": [],
   "source": [
    "even_lst = [num for num in lst if num%2==0]\n",
    "print(even_lst)"
   ]
  },
  {
   "cell_type": "code",
   "execution_count": null,
   "id": "38cf7a31",
   "metadata": {},
   "outputs": [],
   "source": [
    "print(lst)\n",
    "print(lst[-1])"
   ]
  },
  {
   "cell_type": "code",
   "execution_count": null,
   "id": "f655cfdf",
   "metadata": {},
   "outputs": [],
   "source": [
    "lst = [1,23,4,325,35,452,67,27,457,7,73,72,6,13]\n",
    "lst.sort()\n",
    "no_dupes=[num for num in lst if num==no_dupes[-1]]"
   ]
  },
  {
   "cell_type": "code",
   "execution_count": null,
   "id": "401a0410",
   "metadata": {},
   "outputs": [],
   "source": [
    "matrix = [\n",
    "    [1, 2, 3],\n",
    "    [4, 5, 6],\n",
    "    [7, 8, 9]\n",
    "]\n",
    "print(\"Matrix:\")\n",
    "for row in matrix:\n",
    "    print(row)\n",
    "print(f\"Element at second row and third column: {matrix[1][2]}\")"
   ]
  },
  {
   "cell_type": "code",
   "execution_count": null,
   "id": "ef6c7c0b",
   "metadata": {},
   "outputs": [],
   "source": [
    "lst1 = [1, 2, 3, 4, 5]\n",
    "lst2 = ['a', 'b', 'c', 'd', 'e']\n",
    "zipped = list(zip(lst1, lst2))\n",
    "print(zipped)"
   ]
  },
  {
   "cell_type": "code",
   "execution_count": 1,
   "id": "6bb0898c",
   "metadata": {},
   "outputs": [
    {
     "name": "stdout",
     "output_type": "stream",
     "text": [
      "{1: 3, 2: 2, 3: 4, 4: 2, 5: 3, 6: 2}\n"
     ]
    }
   ],
   "source": [
    "numbers=[1,1,1,2,3,4,5,5,6,3,3,3,2,5,4,6]\n",
    "dict={x:numbers.count(x) for x in numbers}\n",
    "print(dict)"
   ]
  },
  {
   "cell_type": "code",
   "execution_count": 8,
   "id": "12dfa013",
   "metadata": {},
   "outputs": [
    {
     "name": "stdout",
     "output_type": "stream",
     "text": [
      "gnirts\n"
     ]
    }
   ],
   "source": [
    "s=\"string\"\n",
    "print(f\"{s[::-1]}\")"
   ]
  },
  {
   "cell_type": "code",
   "execution_count": 14,
   "id": "280fcd4c",
   "metadata": {},
   "outputs": [
    {
     "data": {
      "text/plain": [
       "720"
      ]
     },
     "execution_count": 14,
     "metadata": {},
     "output_type": "execute_result"
    }
   ],
   "source": [
    "def factorial(num):\n",
    "    if num==1 or num==0:\n",
    "        return 1\n",
    "    else:\n",
    "        return num*factorial(num-1)\n",
    "    \n",
    "\n",
    "factorial(6)\n"
   ]
  },
  {
   "cell_type": "code",
   "execution_count": 2,
   "id": "aa285ec9",
   "metadata": {},
   "outputs": [
    {
     "name": "stdout",
     "output_type": "stream",
     "text": [
      "KRISH\n"
     ]
    }
   ],
   "source": [
    "s = \"krish\"\n",
    "print(s.upper())"
   ]
  },
  {
   "cell_type": "code",
   "execution_count": 14,
   "id": "02f4e662",
   "metadata": {},
   "outputs": [
    {
     "name": "stdout",
     "output_type": "stream",
     "text": [
      "0 \n",
      "1 1 2 3 5 8 13 21 34 "
     ]
    }
   ],
   "source": [
    "length = int(input(\"Enter The length of fibonacci sewuence\"))\n",
    "\n",
    "def fib(x):\n",
    "    a=0\n",
    "    b=1\n",
    "    if(x<1):\n",
    "        print(\"error\")\n",
    "        return\n",
    "    else:\n",
    "        print(\"0 \")\n",
    "        for i in range(x):\n",
    "            print(b, end=\" \")\n",
    "            a,b=b,a+b\n",
    "            \n",
    "\n",
    "fib(length)\n"
   ]
  },
  {
   "cell_type": "code",
   "execution_count": 12,
   "id": "c974b5f3",
   "metadata": {},
   "outputs": [
    {
     "name": "stdout",
     "output_type": "stream",
     "text": [
      "2 3\n"
     ]
    }
   ],
   "source": [
    "alpha=1\n",
    "beta=2\n",
    "alpha,beta=beta,alpha+beta\n",
    "print(f\"{alpha} {beta}\")"
   ]
  },
  {
   "cell_type": "code",
   "execution_count": 18,
   "id": "030d7220",
   "metadata": {},
   "outputs": [
    {
     "name": "stdout",
     "output_type": "stream",
     "text": [
      "['key']\n",
      "['key1', 'key2', 'key']\n"
     ]
    }
   ],
   "source": [
    "dict={\"key1\":\"value1\", \"key2\":\"value2\"}\n",
    "def add(value, dict={}):\n",
    "    dict[\"key\"]=value\n",
    "    print(list(dict))\n",
    "\n",
    "add(19)\n",
    "add(27,dict)"
   ]
  },
  {
   "cell_type": "code",
   "execution_count": null,
   "id": "0688f1e1",
   "metadata": {},
   "outputs": [
    {
     "name": "stdout",
     "output_type": "stream",
     "text": [
      "{'a': 11, 'd': 4}\n"
     ]
    }
   ],
   "source": [
    "def intsort(**kwargs):\n",
    "    list2={key:value for key,value in kwargs.items() if isinstance(value, int)}\n",
    "    return list2\n",
    "\n",
    "print(intsort(a=11, b=\"3\", c=3.2, d=4))\n"
   ]
  },
  {
   "cell_type": "code",
   "execution_count": 12,
   "id": "9dbb47ca",
   "metadata": {},
   "outputs": [
    {
     "name": "stdout",
     "output_type": "stream",
     "text": [
      "[1, 2, 3, 4, 5, 6, 4, 3, 21]\n"
     ]
    }
   ],
   "source": [
    "b=list(filter(lambda x: x>0, [1,2,3,4,5,6,4,3,21,-1,-2,-4,-9]))\n",
    "print((b))"
   ]
  },
  {
   "cell_type": "code",
   "execution_count": 6,
   "id": "3e8e16b3",
   "metadata": {},
   "outputs": [],
   "source": [
    "line=['one\\n','second\\n','third\\n']\n",
    "with open('text.txt','a') as file:\n",
    "    file.writelines(line)"
   ]
  },
  {
   "cell_type": "code",
   "execution_count": 14,
   "id": "1e429fb2",
   "metadata": {},
   "outputs": [
    {
     "name": "stdout",
     "output_type": "stream",
     "text": [
      "7 28 145\n"
     ]
    }
   ],
   "source": [
    "with open('source.txt', 'r') as source:\n",
    "    lines= source.readlines()\n",
    "    lines_count=len(lines)\n",
    "    words=sum(len(line.split()) for line in lines)\n",
    "    char= sum(len(line) for line in lines)\n",
    "\n",
    "print(lines_count,words,char)\n",
    "\n",
    "\n",
    "with open(\"destination.txt\", 'w') as dest:\n",
    "    dest.writelines(lines)"
   ]
  },
  {
   "cell_type": "code",
   "execution_count": null,
   "id": "a33c02b5",
   "metadata": {},
   "outputs": [],
   "source": []
  }
 ],
 "metadata": {
  "kernelspec": {
   "display_name": ".venv (3.13.7)",
   "language": "python",
   "name": "python3"
  },
  "language_info": {
   "codemirror_mode": {
    "name": "ipython",
    "version": 3
   },
   "file_extension": ".py",
   "mimetype": "text/x-python",
   "name": "python",
   "nbconvert_exporter": "python",
   "pygments_lexer": "ipython3",
   "version": "3.13.7"
  }
 },
 "nbformat": 4,
 "nbformat_minor": 5
}
